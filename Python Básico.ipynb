{
  "nbformat": 4,
  "nbformat_minor": 0,
  "metadata": {
    "colab": {
      "name": "Notebook Intensivo de Python.ipynb",
      "provenance": [],
      "toc_visible": true
    },
    "kernelspec": {
      "display_name": "Python 3",
      "language": "python",
      "name": "python3"
    },
    "language_info": {
      "codemirror_mode": {
        "name": "ipython",
        "version": 3
      },
      "file_extension": ".py",
      "mimetype": "text/x-python",
      "name": "python",
      "nbconvert_exporter": "python",
      "pygments_lexer": "ipython3",
      "version": "3.8.3"
    }
  },
  "cells": [
    {
      "cell_type": "markdown",
      "metadata": {
        "id": "gNqf774JA6IW"
      },
      "source": [
        "# 💻 Introdução ao Python\n",
        "\n",
        "Olá, pessoal! Vamos iniciar algumas aulas especiais para ajudar a galera que nunca teve muito contato com programação. \n",
        "\n",
        "Para isso criamos esse notebook e essa série de aulinhas, para abordar todos os conhecimentos de Python Básico. Vamos lá? \n",
        "\n",
        "---\n",
        "\n",
        "\n",
        "## Tema: Básico de Programação em Python\n",
        "\n",
        "### Conteúdos:\n",
        "1. Print, input, output\n",
        "2. Variáveis\n",
        "3. Operações (aritméticas, booleanas e lógicas)\n",
        "4. Condicionais\n",
        "5. Listas\n",
        "6. Range\n",
        "7. Loops\n",
        "8. Funções\n",
        "\n",
        "\n"
      ]
    },
    {
      "cell_type": "markdown",
      "metadata": {
        "id": "cQu9hpt7gkf3"
      },
      "source": [
        "## Print\n",
        "\n",
        "\"Printar\" algo é dar ao seu código o comando de fazer algo aparecer na tela. Fazemos isso utilizando a função ```print``` do python.\n",
        "\n",
        "Neste primeiro caso vamos utilizar aspas (' ') porque o que queremos printar é um texto (string), e no python é necessário que textos estejam sempre dessa forma."
      ]
    },
    {
      "cell_type": "code",
      "metadata": {
        "id": "W9XG_6JOPC2M",
        "colab": {
          "base_uri": "https://localhost:8080/"
        },
        "outputId": "9a504a5d-86f0-4dac-813d-8a7164e4722b"
      },
      "source": [
        "print('Somos o Turing USP')"
      ],
      "execution_count": null,
      "outputs": [
        {
          "output_type": "stream",
          "text": [
            "Somos o Turing USP\n"
          ],
          "name": "stdout"
        }
      ]
    },
    {
      "cell_type": "code",
      "metadata": {
        "id": "o8fQsvikhcRM",
        "colab": {
          "base_uri": "https://localhost:8080/"
        },
        "outputId": "68da137c-eef6-46db-cdfa-ffe0573392c9"
      },
      "source": [
        "texto = 'O grupo de IA da USP'\n",
        "\n",
        "print(texto)"
      ],
      "execution_count": null,
      "outputs": [
        {
          "output_type": "stream",
          "text": [
            "O grupo de IA da USP\n"
          ],
          "name": "stdout"
        }
      ]
    },
    {
      "cell_type": "markdown",
      "metadata": {
        "id": "56GlvKl8hnt5"
      },
      "source": [
        "## Input e Output\n",
        "\n",
        "Inputs são as informações dadas ao computador, por exemplo, ao fornecer um nome para ser printado na tela.\n",
        "\n",
        "Outputs são as informações que seu computador gera, por exemplo, o resultado de uma conta.\n",
        "\n"
      ]
    },
    {
      "cell_type": "code",
      "metadata": {
        "id": "shfPBKy5izwl",
        "colab": {
          "base_uri": "https://localhost:8080/"
        },
        "outputId": "6f1e9af9-b6bb-49f3-9cf1-a9cdba9621e8"
      },
      "source": [
        "nome = input('Qual seu nome? ')\n",
        "\n",
        "print(nome)"
      ],
      "execution_count": null,
      "outputs": [
        {
          "output_type": "stream",
          "text": [
            "Qual seu nome? Vitoria\n",
            "Vitoria\n"
          ],
          "name": "stdout"
        }
      ]
    },
    {
      "cell_type": "code",
      "metadata": {
        "id": "ETXOuISAi9qB",
        "colab": {
          "base_uri": "https://localhost:8080/"
        },
        "outputId": "af0f902e-c2d3-464c-b913-f8250ad5c7f3"
      },
      "source": [
        "idade = input('Qual sua idade? ')\n",
        "\n",
        "print('Sua idade é ' + idade)"
      ],
      "execution_count": null,
      "outputs": [
        {
          "output_type": "stream",
          "text": [
            "Qual sua idade? 22 anos\n",
            "Sua idade é 22 anos\n"
          ],
          "name": "stdout"
        }
      ]
    },
    {
      "cell_type": "code",
      "metadata": {
        "id": "azmu7aYGidvk",
        "colab": {
          "base_uri": "https://localhost:8080/"
        },
        "outputId": "3addd042-7122-4060-f59c-3de45202cd1d"
      },
      "source": [
        "dia = input('Que dia você nasceu? ')\n",
        "mês = input('Que mês você nasceu? ' )\n",
        "ano = input('Que ano você nasceu? ')\n",
        "print('Você nasceu no dia ' + dia + ' de ' + mês + ' de ' + ano + '. Correto?') # usamos o + para juntar"
      ],
      "execution_count": null,
      "outputs": [
        {
          "output_type": "stream",
          "text": [
            "Que dia você nasceu? 27\n",
            "Que mês você nasceu? julho\n",
            "Que ano você nasceu? 1999\n",
            "Você nasceu no dia 27 de julho de 1999. Correto?\n"
          ],
          "name": "stdout"
        }
      ]
    },
    {
      "cell_type": "code",
      "metadata": {
        "id": "VvortKidmeLU"
      },
      "source": [
        "idade1 = input('Fale uma idade: ')\n",
        "idade2 = input('Fale outra idade: ')\n",
        "\n",
        "multi = idade1 - idade2\n",
        "\n",
        "print(multi)"
      ],
      "execution_count": null,
      "outputs": []
    },
    {
      "cell_type": "markdown",
      "metadata": {
        "id": "eK2XBg2H_Q83"
      },
      "source": [
        "## Variáveis e seus tipos\n",
        "\n",
        "Variáveis são um dos recursos mais básicos das linguagens de programação. Utilizadas para armazenar valores em memória, elas nos permitem gravar e ler esses dados com facilidade a partir de um nome definido por nós. \n",
        "\n",
        "Por exemplo, você já atribuiu várias variáveis desde que essa aula começou, por exemplo as variáveis \"mãe\" e \"pai\" acima!"
      ]
    },
    {
      "cell_type": "code",
      "metadata": {
        "id": "yEzi8mxp_qBQ"
      },
      "source": [
        "nome = 'João'\n",
        "idade = 15 \n",
        "altura = 1.70\n",
        "confere_altura = altura == 1.50\n",
        "\n",
        "print(type(nome))\n",
        "print(type(idade))\n",
        "print(type(altura))\n",
        "print(type(confere_altura))"
      ],
      "execution_count": null,
      "outputs": []
    },
    {
      "cell_type": "code",
      "metadata": {
        "id": "gxGkWOML__hW"
      },
      "source": [
        "print(confere_altura)"
      ],
      "execution_count": null,
      "outputs": []
    },
    {
      "cell_type": "code",
      "metadata": {
        "id": "B-eyzQ1GArp5"
      },
      "source": [
        "print(altura == 1.70)"
      ],
      "execution_count": null,
      "outputs": []
    },
    {
      "cell_type": "markdown",
      "metadata": {
        "id": "4cn4J_6kY_hP"
      },
      "source": [
        "## Operações \n"
      ]
    },
    {
      "cell_type": "markdown",
      "metadata": {
        "id": "7IaNmtNaMVAf"
      },
      "source": [
        "### Aritméticas\n",
        "As operações aritméticas podem ser feitas pelo Python assim como você faria numa calculadora, só precisamos decorar qual o equivalente de cada sinal da operação, já que sabemos que, por exemplo, o sinal de \"=\" no python não significa \"igual\", certo?\n",
        "\n",
        "Os sinais para operações no Python: \n",
        "\n",
        "``` \n",
        "== igual\n",
        "+ adição\n",
        "- subtração\n",
        "* multiplicação\n",
        "/ divisão\n",
        "% resto de uma divisão \n",
        "** exponenciação\n",
        "```\n",
        "\n",
        "Vamos fazer algumas operações:"
      ]
    },
    {
      "cell_type": "code",
      "metadata": {
        "id": "iBRNWg6SWU54"
      },
      "source": [
        "soma = 1 + 3\n",
        "subtracao = 50 - 25\n",
        "multiplicacao = 10 * 5\n",
        "divisao = 30 / 3\n",
        "expo = 2**4\n",
        "\n",
        "print(soma)\n",
        "print(subtracao)\n",
        "print(multiplicacao)\n",
        "print(divisao)\n",
        "print(expo)"
      ],
      "execution_count": null,
      "outputs": []
    },
    {
      "cell_type": "code",
      "metadata": {
        "id": "lwjnRVm6YCjl"
      },
      "source": [
        "# resto da divisão\n",
        "resto = 56 % 3 \n",
        "print(resto)"
      ],
      "execution_count": null,
      "outputs": []
    },
    {
      "cell_type": "markdown",
      "metadata": {
        "id": "jQ7_iPFdYLZc"
      },
      "source": [
        "Também podemos realizar operações com os números recebidos pelas variáveis:"
      ]
    },
    {
      "cell_type": "code",
      "metadata": {
        "id": "LSsa7doHXViv"
      },
      "source": [
        "num1 = 10\n",
        "num2 = 21 \n",
        "\n",
        "num3 = num1 * num2\n",
        "print(num3)"
      ],
      "execution_count": null,
      "outputs": []
    },
    {
      "cell_type": "markdown",
      "metadata": {
        "id": "prLhWk7ua7nm"
      },
      "source": [
        "#### Exercício"
      ]
    },
    {
      "cell_type": "code",
      "metadata": {
        "id": "1Nowot1Wa0Nj"
      },
      "source": [
        "# Use este espaço para testar alguma operação!\n",
        "... "
      ],
      "execution_count": null,
      "outputs": []
    },
    {
      "cell_type": "markdown",
      "metadata": {
        "id": "8ReLs4sPZR3_"
      },
      "source": [
        "### Booleanas\n",
        "\n",
        "Operações booleanas são formas de realizar comparações, pois quando se compara algo a resposta tende a ser \"Verdadeiro\" ou \"Falso\".\n",
        "\n",
        "Para mais exemplos veja [este vídeo](https://www.youtube.com/watch?v=JN1jHtlRqLA&ab_channel=eXcript)."
      ]
    },
    {
      "cell_type": "code",
      "metadata": {
        "id": "9kXkeaPBMums"
      },
      "source": [
        "a = 3\n",
        "b = 4\n",
        "\n",
        "c = a < b   # c recebe o valor da comparação a < b\n",
        "d = a > b   # d recebe o valor da comparação a > b\n",
        "e = a == b  # e recebe o valor da comparação a == b\n",
        "\n",
        "print(\"Valor de c: \", c)\n",
        "print(\"Valor de d: \", d)\n",
        "print(\"Valor de e: \", e)\n"
      ],
      "execution_count": null,
      "outputs": []
    },
    {
      "cell_type": "markdown",
      "metadata": {
        "id": "mzlqvaykbH1b"
      },
      "source": [
        "#### Exercício!"
      ]
    },
    {
      "cell_type": "code",
      "metadata": {
        "id": "9-Anls5PMvRJ"
      },
      "source": [
        "# Use este espaço para testar alguma operação booleana\n",
        "print(4 > 3)"
      ],
      "execution_count": null,
      "outputs": []
    },
    {
      "cell_type": "markdown",
      "metadata": {
        "id": "XZCfHQSGbfPH"
      },
      "source": [
        "### Lógicas\n",
        "\n",
        "O Python nos fornece uma lista de operadores lógicos para que nós possamos de forma mais fácil, verificar várias condições. Por exemplo, se eu quero saber se \n",
        " é maior que quatro ou menor que quatro, podemos utilizar operações lógicas.\n",
        "\n",
        "Operadores:\n",
        "\n",
        "* and = e\n",
        "* or = ou\n",
        "* not = negação\n",
        "* is not = não é\n",
        "* in = está contido\n",
        "* not in = não está contido\n",
        "\n",
        "\n"
      ]
    },
    {
      "cell_type": "markdown",
      "metadata": {
        "id": "KUAGeQJEJo9J"
      },
      "source": [
        "#### Operador ```and```\n",
        "\n",
        "Esse operador serve para verificarmos se \"tal condição\" E \"tal condição\" são reais ou não. Existem algumas regras a respeito do que esses operadores retornam, vamos vê-las:![Captura de tela 2021-08-03 145808.png](data:image/png;base64,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)"
      ]
    },
    {
      "cell_type": "code",
      "metadata": {
        "id": "CIK1WleVJmhi"
      },
      "source": [
        "# por exemplo\n",
        "4 > 3 and 5 > 4 "
      ],
      "execution_count": null,
      "outputs": []
    },
    {
      "cell_type": "code",
      "metadata": {
        "id": "QiqI_Ox_Mz-9"
      },
      "source": [
        "4 == 4 and 4 == 3"
      ],
      "execution_count": null,
      "outputs": []
    },
    {
      "cell_type": "markdown",
      "metadata": {
        "id": "Mrov8yK3M90v"
      },
      "source": [
        "#### Operador ```or```\n",
        "\n",
        "Esse operador serve para verificar se \"tal condição\" OU \"tal condição\" é verdade. Ele resulta em um valor VERDADEIRO se ao menos UM dos dois valores de entrada da operação for VERDADEIRO, caso contrário o resultado é FALSO. Vamos ver na imagem abaixo: ![Captura de tela 2021-08-03 151246.png](data:image/png;base64,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)\n"
      ]
    },
    {
      "cell_type": "code",
      "metadata": {
        "id": "XPlGLMrWOQ2T"
      },
      "source": [
        "# por exemplo \n",
        "1 == 1 or 1 == 2 "
      ],
      "execution_count": null,
      "outputs": []
    },
    {
      "cell_type": "code",
      "metadata": {
        "id": "pSh0GKJJOYGu"
      },
      "source": [
        "2 > 1 or 3 > 2 "
      ],
      "execution_count": null,
      "outputs": []
    },
    {
      "cell_type": "code",
      "metadata": {
        "id": "68djVNt0OcvM"
      },
      "source": [
        "5 < 2 or 3 == 2"
      ],
      "execution_count": null,
      "outputs": []
    },
    {
      "cell_type": "markdown",
      "metadata": {
        "id": "XQyUpe07IW41"
      },
      "source": [
        "#### Operador ```in```\n",
        "\n",
        "Esse operador serve para verificarmos se determinado valor está contido dentro de um certo conjunto de valores. \n",
        "\n",
        "Por exemplo, dado um conjunto de números de 1 a 100, eu quero saber se o valor 102 está no conjunto. Nesse caso eu receberia um \"False\", porque o conjunto vai até 100, apenas."
      ]
    },
    {
      "cell_type": "code",
      "metadata": {
        "id": "jG9oA_tJInn1"
      },
      "source": [
        "conjunto = [1,2,3,4,5]\n",
        "\n",
        "print(6 in conjunto)"
      ],
      "execution_count": null,
      "outputs": []
    },
    {
      "cell_type": "code",
      "metadata": {
        "id": "cgeNWPkxwQf4"
      },
      "source": [
        "5 in conjunto"
      ],
      "execution_count": null,
      "outputs": []
    },
    {
      "cell_type": "markdown",
      "metadata": {
        "id": "CUtfBDYeIuyU"
      },
      "source": [
        "#### Operador ```not in```\n",
        "\n",
        "Esse operador serve para verificarmos se determinado valor NÃO está contido dentro de um certo conjunto de valores. \n",
        "\n",
        "Pensando no mesmo exemplo anterior, onde foi dado um conjunto de números de 1 a 100, se eu quero saber se o valor 102 está no conjunto, dessa vez eu receberia um \"True\", porque 102 realmente não estará no conjunto."
      ]
    },
    {
      "cell_type": "code",
      "metadata": {
        "id": "Y-x2wAq0JCQ9"
      },
      "source": [
        "conjunto2 = [10,20,30,40,50]\n",
        "\n",
        "print(5 not in conjunto2)"
      ],
      "execution_count": null,
      "outputs": []
    },
    {
      "cell_type": "markdown",
      "metadata": {
        "id": "h4Cd8XIhQmYK"
      },
      "source": [
        "#### Operador ```not```\n",
        "\n",
        "Serve para tornar qualquer valor que o sucede como o seu contrário, ou seja, sua função é simplesmente inverter os valores."
      ]
    },
    {
      "cell_type": "code",
      "metadata": {
        "id": "bV56TmCSQztK"
      },
      "source": [
        "not False"
      ],
      "execution_count": null,
      "outputs": []
    },
    {
      "cell_type": "code",
      "metadata": {
        "id": "knwMTPlDQ-bB"
      },
      "source": [
        "3 > 4"
      ],
      "execution_count": null,
      "outputs": []
    },
    {
      "cell_type": "code",
      "metadata": {
        "id": "1MFcCU2aQ6pH"
      },
      "source": [
        "not 3 > 4 "
      ],
      "execution_count": null,
      "outputs": []
    },
    {
      "cell_type": "markdown",
      "metadata": {
        "id": "yKj-7uEP7CLx"
      },
      "source": [
        "#### Outros operadores lógicos \n",
        "\n",
        "Cada um funciona de forma diferente, e explicá-los e testá-los um por um demoraria um pouco. Para se aprofundar em todos os operadores e como cada um deles funciona, é só dar uma olhada [neste vídeo](https://www.youtube.com/watch?v=czW7I2CCcUM&ab_channel=eXcript). "
      ]
    },
    {
      "cell_type": "markdown",
      "metadata": {
        "id": "8sGlRaB6FJyu"
      },
      "source": [
        "## Condicionais\n",
        "\n",
        "No nosso dia a dia, é comum executarmos comportamentos diferentes para condições diferentes, certo? Vamos examinar a seguinte frase:\n",
        "\n",
        "   - **Se** chover amanhã, leve um guarda chuva, **caso contrário**, leve um óculos de sol\n",
        "\n",
        "De maneira análoga, frequentemente quando formos criar programas, vamos querer que o computador execute um dado comando apenas quando uma certa condição for verdade. Para isso, vamos usar o comando `if` e `else`: "
      ]
    },
    {
      "cell_type": "code",
      "metadata": {
        "id": "vVj97GWkFJyu"
      },
      "source": [
        "chuva = True\n",
        "\n",
        "if chuva:\n",
        "    print('Devo levar um guarda chuva!')\n",
        "else:\n",
        "    print('Devo levar um óculos de sol!')"
      ],
      "execution_count": null,
      "outputs": []
    },
    {
      "cell_type": "markdown",
      "metadata": {
        "id": "e3m5VRQJFJyu"
      },
      "source": [
        "Além do `if` e do `else` também podemos aninhar outras condicionais entre esses comandos com o `elif`(abreviação de else if). Não há limites para números de `elif`s que podem ser adicionados. \n",
        "A sintaxe das condicionais vai ser a seguinte: \n",
        "\n",
        "``` python\n",
        "if CONDIÇÃO_1:\n",
        "    COMANDOS_1     # executados se CONDIÇÃO_1 tem valor True\n",
        "\n",
        "elif CONDIÇÃO_2:\n",
        "    COMANDOS_2     # executados se CONDIÇÃO_2 tem valor True\n",
        "\n",
        "else:\n",
        "    COMANDOS_2     # executados se CONDIÇÃO_1 e CONDIÇÃO_2 tem valor False\n",
        "```\n"
      ]
    },
    {
      "cell_type": "markdown",
      "metadata": {
        "id": "rxcjm5Aov4FG"
      },
      "source": [
        "## Alguns exercícios para vocês praticarem em casa!"
      ]
    },
    {
      "cell_type": "markdown",
      "metadata": {
        "id": "P3WxE8x9FJyv"
      },
      "source": [
        "### Exercício 1\n",
        "Escreva um programa que recebe a idade do usuário e, se ele/ela for maior de 18 anos, o computador imprime a mensagem \"Você já pode dirigir!\", caso contrário, o programa deve imprimir \"Você ainda não pode tirar a sua habilitação\". "
      ]
    },
    {
      "cell_type": "markdown",
      "metadata": {
        "id": "xK82-B6wFJyv"
      },
      "source": [
        "### Exercício 2\n",
        "\n",
        "Faça um programa que recebe um número e diz se ele é par ou ímpar"
      ]
    },
    {
      "cell_type": "markdown",
      "metadata": {
        "id": "hfxOOyp8FJyw"
      },
      "source": [
        "## Listas\n",
        "Uma lista em Python é uma sequência ou coleção ordenada de valores. Cada valor na lista é identificado por um índice. As listas são similares a strings, que são uma sequência de caracteres, no entanto, diferentemente de strings, os itens de uma lista podem ser de tipos diferentes."
      ]
    },
    {
      "cell_type": "code",
      "metadata": {
        "id": "UOCtIEBiFJyx"
      },
      "source": [
        "lista = [1, 2, 3, 4, 5]\n",
        "print(lista)\n",
        "print(type(lista))"
      ],
      "execution_count": null,
      "outputs": []
    },
    {
      "cell_type": "code",
      "metadata": {
        "id": "3loCjn0UFJyx"
      },
      "source": [
        "lista2 = [1, 'oi', 3.14, True]\n",
        "print(lista2)\n",
        "print(type(lista2))"
      ],
      "execution_count": null,
      "outputs": []
    },
    {
      "cell_type": "markdown",
      "metadata": {
        "id": "Kl47hz5sFJyx"
      },
      "source": [
        "Podemos até mesmo criar listas dentro de listas: "
      ]
    },
    {
      "cell_type": "code",
      "metadata": {
        "id": "dVNx6IL7FJyx"
      },
      "source": [
        "listas = [[1, 2, 3], [4, 5, 6], [7, 8, 9]]\n",
        "print(listas)\n",
        "print(type(listas))"
      ],
      "execution_count": null,
      "outputs": []
    },
    {
      "cell_type": "markdown",
      "metadata": {
        "id": "VMioB6PNFJyy"
      },
      "source": [
        "Se quisermos saber o comprimento de uma lista, utilizamos a função `len()`"
      ]
    },
    {
      "cell_type": "code",
      "metadata": {
        "id": "43V8ERZaFJyy"
      },
      "source": [
        "print(lista, len(lista))\n",
        "print(lista2, len(lista2))\n",
        "print(listas, len(listas))"
      ],
      "execution_count": null,
      "outputs": []
    },
    {
      "cell_type": "markdown",
      "metadata": {
        "id": "movq4EWPFJyy"
      },
      "source": [
        "**Acessando elementos**\n",
        "\n",
        "A sintaxe para acessar um elemento de uma lista é a mesma usada para acessar um caractere de um string. Nós usamos o operador de indexação - `[]` . A expressão dentro dos colchetes especifica o índice. Lembre-se que o índice do primeiro elemento é 0!"
      ]
    },
    {
      "cell_type": "code",
      "metadata": {
        "id": "BCq7IyZyFJyy"
      },
      "source": [
        "lista[0]"
      ],
      "execution_count": null,
      "outputs": []
    },
    {
      "cell_type": "code",
      "metadata": {
        "id": "immiKy1IFJyz"
      },
      "source": [
        "lista2[1:3]"
      ],
      "execution_count": null,
      "outputs": []
    },
    {
      "cell_type": "code",
      "metadata": {
        "id": "K9DDYGLlFJyz"
      },
      "source": [
        "listas[-1]"
      ],
      "execution_count": null,
      "outputs": []
    },
    {
      "cell_type": "code",
      "metadata": {
        "id": "Wu_PdDkVFJyz"
      },
      "source": [
        "# Selecione o último elemento da última sublista em 'listas'\n"
      ],
      "execution_count": null,
      "outputs": []
    },
    {
      "cell_type": "markdown",
      "metadata": {
        "id": "9QCiZ_8IFJyz"
      },
      "source": [
        "**Pertinência em uma lista**\n",
        "\n",
        "Podemos usar os operadores booleanos `in` e `not in` para verificar se um elemento pertence a uma lista ou não:\n"
      ]
    },
    {
      "cell_type": "code",
      "metadata": {
        "id": "XYJpuXS-FJy0"
      },
      "source": [
        "compras = ['leite', 'batata', 'manteiga', 'ovos', 'cenoura']"
      ],
      "execution_count": null,
      "outputs": []
    },
    {
      "cell_type": "code",
      "metadata": {
        "id": "zgiqhUbyFJy0"
      },
      "source": [
        "'banana' in compras"
      ],
      "execution_count": null,
      "outputs": []
    },
    {
      "cell_type": "code",
      "metadata": {
        "id": "98BZ0pWZFJy0"
      },
      "source": [
        "'manteiga' in compras"
      ],
      "execution_count": null,
      "outputs": []
    },
    {
      "cell_type": "code",
      "metadata": {
        "id": "8oXCXSAeFJy0"
      },
      "source": [
        "'ovos' not in compras"
      ],
      "execution_count": null,
      "outputs": []
    },
    {
      "cell_type": "markdown",
      "metadata": {
        "id": "dx1lImu-FJy1"
      },
      "source": [
        "**`.append()`**\n",
        "\n",
        "Podemos facilmente inserir novos itens em uma lista utilizando o método `append`. Esse método vai se mostrar muito útil quando estivermos trabalhando com loops.\n"
      ]
    },
    {
      "cell_type": "code",
      "metadata": {
        "id": "_2A19ElSFJy1"
      },
      "source": [
        "estados_sudeste = ['SP', 'RJ', 'MG']"
      ],
      "execution_count": null,
      "outputs": []
    },
    {
      "cell_type": "code",
      "metadata": {
        "id": "UTYBfamnFJy2"
      },
      "source": [
        "estados_sudeste.append('ES')"
      ],
      "execution_count": null,
      "outputs": []
    },
    {
      "cell_type": "code",
      "metadata": {
        "id": "DLcSsiL2FJy3"
      },
      "source": [
        "estados_sudeste"
      ],
      "execution_count": null,
      "outputs": []
    },
    {
      "cell_type": "markdown",
      "metadata": {
        "id": "4nTw3zdDFJy4"
      },
      "source": [
        "### Atenção! Listas são mutáveis! \n",
        "Uma propriedade importante das listas é que elas são mutáveis, ou seja, podemos alterar um item de uma lista acessando-o diretamente como parte do comando de atribuição. Vamos ver isso na prática: "
      ]
    },
    {
      "cell_type": "code",
      "metadata": {
        "id": "COd8uL-SFJy4"
      },
      "source": [
        "exemplo = [1, 2, 3, 4, 5, 6, 7, 8, 9, 10]"
      ],
      "execution_count": null,
      "outputs": []
    },
    {
      "cell_type": "code",
      "metadata": {
        "id": "yTgF7uoxFJy4"
      },
      "source": [
        "exemplo[2]"
      ],
      "execution_count": null,
      "outputs": []
    },
    {
      "cell_type": "code",
      "metadata": {
        "id": "JMSKBA99FJy5"
      },
      "source": [
        "exemplo[2] = 3678964"
      ],
      "execution_count": null,
      "outputs": []
    },
    {
      "cell_type": "code",
      "metadata": {
        "id": "uVthTNdAFJy5"
      },
      "source": [
        "exemplo"
      ],
      "execution_count": null,
      "outputs": []
    },
    {
      "cell_type": "markdown",
      "metadata": {
        "id": "oeQjEwtjFJy5"
      },
      "source": [
        "Se quisermos \"preservar\" a lista original podemos criar um *clone* "
      ]
    },
    {
      "cell_type": "code",
      "metadata": {
        "id": "30q5jgheFJy5"
      },
      "source": [
        "exemplo = [1, 2, 3, 4, 5, 6, 7, 8, 9, 10]"
      ],
      "execution_count": null,
      "outputs": []
    },
    {
      "cell_type": "code",
      "metadata": {
        "id": "wiefxU8VFJy6"
      },
      "source": [
        "clone = exemplo[:]"
      ],
      "execution_count": null,
      "outputs": []
    },
    {
      "cell_type": "code",
      "metadata": {
        "id": "r4xFQQ7eFJy6"
      },
      "source": [
        "clone[2] = 3678964"
      ],
      "execution_count": null,
      "outputs": []
    },
    {
      "cell_type": "code",
      "metadata": {
        "id": "gWc6Dq8PFJy6"
      },
      "source": [
        "print(exemplo)\n",
        "print(clone)"
      ],
      "execution_count": null,
      "outputs": []
    },
    {
      "cell_type": "markdown",
      "metadata": {
        "id": "uFJ971ViFJy6"
      },
      "source": [
        "### Exercício 1 \n",
        "Faça um programa que recebe um item e verifica se ele já foi colocado na lista de compras ou não "
      ]
    },
    {
      "cell_type": "code",
      "metadata": {
        "id": "ZLPazsp5FJy7"
      },
      "source": [
        "novo_item = ...\n",
        "lista_de_compras = ['ovos', 'manteiga', 'leite', 'laranja']\n",
        "\n",
        "if ...:\n",
        "    ...\n",
        "else:\n",
        "    ..."
      ],
      "execution_count": null,
      "outputs": []
    },
    {
      "cell_type": "markdown",
      "metadata": {
        "id": "GEQ-EHjxFJy8"
      },
      "source": [
        "### Exercício 2 \n",
        "Altere o programa anterior para inserir o novo item caso ele não esteja na lista ainda"
      ]
    },
    {
      "cell_type": "markdown",
      "metadata": {
        "id": "i7Ea8JnzzBs7"
      },
      "source": [
        "## Dicionários\n",
        "\n",
        "Dicionários são formas de armazenar coleções de valores. São muito utilizados quando queremos armazenar dados de forma organizada e que possuem identificação única (como acontece em bancos de dados). Para dicionários usamos a seguinte sintaxe:\n",
        "\n",
        "Primeiro damos ao dicionário um nome e depois atribuimos as keys (chaves) e os values (valores) de cada chave.\n",
        "\n",
        "```nome_do_dicionário = {chave:valor...}```\n",
        "\n"
      ]
    },
    {
      "cell_type": "code",
      "metadata": {
        "id": "tZJU8hnX1eT_"
      },
      "source": [
        "# dic pode ter strings, ints e floats:\n",
        "\n",
        "idades = {'maria':21, 'julia':112, 'alice':22, 'felipe':12}\n",
        "\n",
        "alturas = {'rafael':1.70, 'fernando':1.68, 'daniel':1.60, 'wesley':2.05}"
      ],
      "execution_count": null,
      "outputs": []
    },
    {
      "cell_type": "code",
      "metadata": {
        "id": "8rAemJne2Cm_"
      },
      "source": [
        "# um dicionário também pode ter uma lista como valor\n",
        "\n",
        "areas = {'frutas':['maçã','laranja'], 'vegetais':['alface','couve'], 'legumes':['abobrinha', 'batata']}"
      ],
      "execution_count": null,
      "outputs": []
    },
    {
      "cell_type": "markdown",
      "metadata": {
        "id": "nXnVvCzO3f_M"
      },
      "source": [
        "Acessando os dados"
      ]
    },
    {
      "cell_type": "code",
      "metadata": {
        "id": "SOr3OxZd3hUJ"
      },
      "source": [
        "idades['maria']"
      ],
      "execution_count": null,
      "outputs": []
    },
    {
      "cell_type": "code",
      "metadata": {
        "id": "OCM2GJv53rRE"
      },
      "source": [
        "areas['frutas']"
      ],
      "execution_count": null,
      "outputs": []
    },
    {
      "cell_type": "markdown",
      "metadata": {
        "id": "iMyuZjey4b07"
      },
      "source": [
        "Podemos também construir dicionários de forma dinâmica, atribuindo valores e chaves depois de criado:"
      ]
    },
    {
      "cell_type": "code",
      "metadata": {
        "id": "Q5KsD5VU3wfI"
      },
      "source": [
        "frutas = {}\n",
        "frutas['maçã'] = 2\n",
        "frutas['limão']  = 5\n",
        "frutas['melancias'] = 10\n",
        "\n",
        "print(frutas)"
      ],
      "execution_count": null,
      "outputs": []
    },
    {
      "cell_type": "markdown",
      "metadata": {
        "id": "X0qlT5mk4lFy"
      },
      "source": [
        "#### Funções especiais para o dicionário"
      ]
    },
    {
      "cell_type": "code",
      "metadata": {
        "id": "wPHiYj4d5iyA"
      },
      "source": [
        "meu_dic = {'nome':'vitoria', 'idade':22, 'altura':1.60, 'gênero':'feminino'}"
      ],
      "execution_count": null,
      "outputs": []
    },
    {
      "cell_type": "markdown",
      "metadata": {
        "id": "8is9Yh0d5dMm"
      },
      "source": [
        "`.items()`"
      ]
    },
    {
      "cell_type": "code",
      "metadata": {
        "id": "cRtU-EWM5hpK"
      },
      "source": [
        "meu_dic.items()"
      ],
      "execution_count": null,
      "outputs": []
    },
    {
      "cell_type": "markdown",
      "metadata": {
        "id": "mwWdEyVB51mR"
      },
      "source": [
        "```.keys()```"
      ]
    },
    {
      "cell_type": "code",
      "metadata": {
        "id": "tJJMWwtz5301"
      },
      "source": [
        "meu_dic.keys()"
      ],
      "execution_count": null,
      "outputs": []
    },
    {
      "cell_type": "markdown",
      "metadata": {
        "id": "dEnyBPKo57Jq"
      },
      "source": [
        "`.values()`"
      ]
    },
    {
      "cell_type": "code",
      "metadata": {
        "id": "M2YFBbdT596G"
      },
      "source": [
        "meu_dic.values()"
      ],
      "execution_count": null,
      "outputs": []
    },
    {
      "cell_type": "markdown",
      "metadata": {
        "id": "cCK93K2GFJy9"
      },
      "source": [
        "## Range"
      ]
    },
    {
      "cell_type": "markdown",
      "metadata": {
        "id": "LypGcPUnFJy9"
      },
      "source": [
        "O range não é nada mais do que uma forma rápida de criar uma sequência de números dentro de um determinado intervalo. Essa função aceita até 3 argumentos e, a partir deles, podemos decidir em que número a série começará, em qual ela terminará e qual será a diferença entre os números da série."
      ]
    },
    {
      "cell_type": "code",
      "metadata": {
        "id": "uTHzfdspFJy-"
      },
      "source": [
        "exemplo1 = list(range(1,10,2))\n",
        "print(exemplo1)"
      ],
      "execution_count": null,
      "outputs": []
    },
    {
      "cell_type": "markdown",
      "metadata": {
        "id": "re5wWGkrFJy-"
      },
      "source": [
        "Na ausência dos argumentos de número inicial e intervalo entre os números, por padrão, o programa considera que o número inicial será o 0 e irá aumentando de 1 em 1."
      ]
    },
    {
      "cell_type": "code",
      "metadata": {
        "id": "j8XZzjBSFJy-"
      },
      "source": [
        "exemplo2 = list(range(5))\n",
        "print(exemplo2)"
      ],
      "execution_count": null,
      "outputs": []
    },
    {
      "cell_type": "markdown",
      "metadata": {
        "id": "eZWu6uhkFJy-"
      },
      "source": [
        "Atenção: nos exemplos coloquei list() para facilitar a visualização do que ocorre no range. Contudo, a função range() não é uma variável do tipo lista"
      ]
    },
    {
      "cell_type": "code",
      "metadata": {
        "id": "HIHcUiLCFJy_"
      },
      "source": [
        "print(range(5))\n",
        "print(type(range(5)))"
      ],
      "execution_count": null,
      "outputs": []
    },
    {
      "cell_type": "markdown",
      "metadata": {
        "id": "gLt3lqdfFJy_"
      },
      "source": [
        "#### Exercício"
      ]
    },
    {
      "cell_type": "markdown",
      "metadata": {
        "id": "NWOqnw9IFJy_"
      },
      "source": [
        "Usando a função range, crie e dê print() em uma lista com uma sequência de números que aumentam de 2 em 2, que começa com o número 0 e termina com o número 16."
      ]
    },
    {
      "cell_type": "markdown",
      "metadata": {
        "id": "BEMkwQF_FJzA"
      },
      "source": [
        "## Loops"
      ]
    },
    {
      "cell_type": "markdown",
      "metadata": {
        "id": "zkzx3OBGFJzA"
      },
      "source": [
        "Os loops são utilizados para quando queremos que uma série de comandos de códigos seja feita repetidamente até uma certa condição ou número de repetições ser satisfeita"
      ]
    },
    {
      "cell_type": "markdown",
      "metadata": {
        "id": "flCqW33qFJzA"
      },
      "source": [
        "### While Loops\n",
        "Os loops while são usados para repetir os comandos até uma determinada condição booleana ser satisfeita. Vale destacar que se essa condição não é inicialmente satisfeita, o loop while não roda."
      ]
    },
    {
      "cell_type": "code",
      "metadata": {
        "id": "jdOggEryFJzA"
      },
      "source": [
        "#Exemplo 1\n",
        "n = 1\n",
        "while n <= 5:\n",
        "    print(n)\n",
        "    n += 1 # isso é o mesmo que escrever n = n + 1"
      ],
      "execution_count": null,
      "outputs": []
    },
    {
      "cell_type": "code",
      "metadata": {
        "id": "AwybeFTqFJzB"
      },
      "source": [
        "#Exemplo 2\n",
        "n = 6\n",
        "while n <= 5:\n",
        "    print(n)\n",
        "    n += 1"
      ],
      "execution_count": null,
      "outputs": []
    },
    {
      "cell_type": "markdown",
      "metadata": {
        "id": "HnJbinFuFJzB"
      },
      "source": [
        "Agora vamos testar uma aplicação um pouco mais robusta. Utilizando o loop while, calcularemos o fatorial de um número. Lembrando que o fatorial é a multiplicação do número pelo número imediatamente anterior e assim sucessivamente até chegar no número 1. Ex.: 3! = 3x2x1"
      ]
    },
    {
      "cell_type": "code",
      "metadata": {
        "id": "LjELezRYFJzB"
      },
      "source": [
        "#Fatorial\n",
        "num = int(input('Escolha um número! '))\n",
        "multiplicador = num\n",
        "fatorial = 1\n",
        "while multiplicador > 1: \n",
        "    fatorial *= multiplicador\n",
        "    multiplicador -= 1\n",
        "print(\"O fatorial de %d é %d\"%(num,fatorial))"
      ],
      "execution_count": null,
      "outputs": []
    },
    {
      "cell_type": "markdown",
      "metadata": {
        "id": "jC6EWzjIFJzC"
      },
      "source": [
        "### For loops\n",
        "Os loops com \"for\" iteram dentro de uma dada sequência. Normalmente, é usado quando queremos que uma série de comandos sejam repetidos por uma quantidade de vezes específica. "
      ]
    },
    {
      "cell_type": "code",
      "metadata": {
        "id": "lAhTME0PFJzC"
      },
      "source": [
        "#Exemplo 1 - Queremos criar uma lista com os nomes de um determinado número de alunos\n",
        "num = int(input(\"Insira o número de alunos: \"))\n",
        "lista = []\n",
        "for i in range(num):\n",
        "    nome = input(\"Insira o nome do aluno: \")\n",
        "    lista.append(nome)\n",
        "print(lista)"
      ],
      "execution_count": null,
      "outputs": []
    },
    {
      "cell_type": "markdown",
      "metadata": {
        "id": "AhMLF_sZFJzD"
      },
      "source": [
        "Outra aplicação é para iterar em uma lista. "
      ]
    },
    {
      "cell_type": "code",
      "metadata": {
        "id": "NzEgrwTWFJzD"
      },
      "source": [
        "# Vamos fazer um código que devolve os números pares de uma lista de números dados\n",
        "numeros = [4,0,8,17,58,29]\n",
        "for num in numeros:\n",
        "    if num % 2 == 0:\n",
        "        print(num)"
      ],
      "execution_count": null,
      "outputs": []
    },
    {
      "cell_type": "markdown",
      "metadata": {
        "id": "3nnKyI-25EuC"
      },
      "source": [
        "Podemos também iterar em dicionários"
      ]
    },
    {
      "cell_type": "code",
      "metadata": {
        "id": "C7Uc4z0X5DnW"
      },
      "source": [
        "letras = {'a': 'amor', 'b': 'barco', 'c': 'coração'}\n",
        "\n",
        "for key in letras:\n",
        "    print(key)"
      ],
      "execution_count": null,
      "outputs": []
    },
    {
      "cell_type": "markdown",
      "metadata": {
        "id": "_9xXticCFJzE"
      },
      "source": [
        "### Elementos Break e Continue\n",
        "Tem algumas funções que podem nos ajudar a controlar o fluxo dos nossos loops. O \"continue\" faz com que pulemos o bloco de comando e voltemos para o comando do loop. Já o \"break\" é usado para quebrar o loop e, portanto, sair dele."
      ]
    },
    {
      "cell_type": "code",
      "metadata": {
        "id": "XuFijqzEFJzE"
      },
      "source": [
        "#Exemplo 1: um código que printa os números impares entre 0 e 10.\n",
        "for i in range(10):\n",
        "    if i % 2 == 0:\n",
        "        continue #se o número for par, o código voltará para o \"for\" e o número não será printado\n",
        "    print(i)"
      ],
      "execution_count": null,
      "outputs": []
    },
    {
      "cell_type": "code",
      "metadata": {
        "id": "g_RnXJZJFJzF"
      },
      "source": [
        "#Exemplo 2: printar todos os números entre 1 e 10 que são menores que 5\n",
        "for i in range(10):\n",
        "    if i == 5:\n",
        "        break\n",
        "    print(i)"
      ],
      "execution_count": null,
      "outputs": []
    },
    {
      "cell_type": "markdown",
      "metadata": {
        "id": "BBgJJUUfFJzG"
      },
      "source": [
        "### Loop dentro de loop\n",
        "Há casos em que podemos precisar colocar vários loops encadeados. "
      ]
    },
    {
      "cell_type": "code",
      "metadata": {
        "id": "pfRuAuspFJzH"
      },
      "source": [
        "#Exemplo 1: vamos criar um código que recebe uma lista com listas e retorna uma lista com os \n",
        "#números presentes em todas essas listas sem repetição\n",
        "lista = [[1,2,3,4], [2,5,7],[15,2,20],[15,10,62]]\n",
        "lista_sep = []\n",
        "for i in lista:\n",
        "    for j in i:\n",
        "        if j not in lista_sep:\n",
        "            lista_sep.append(j)\n",
        "print(lista_sep)"
      ],
      "execution_count": null,
      "outputs": []
    },
    {
      "cell_type": "markdown",
      "metadata": {
        "id": "hq1qszoGFJzI"
      },
      "source": [
        "#### Exercício\n",
        "Faça um código que retorne uma lista com os números primos de 1 a 50."
      ]
    },
    {
      "cell_type": "code",
      "metadata": {
        "id": "C8ARFLapFJzJ"
      },
      "source": [
        "primos = []\n",
        "for ...\n",
        "    ...\n",
        "    for ...\n",
        "        if ...:\n",
        "            ...\n",
        "    if ...:\n",
        "        ...\n",
        "print(primos)"
      ],
      "execution_count": null,
      "outputs": []
    },
    {
      "cell_type": "markdown",
      "metadata": {
        "id": "Blrvm3q_FJzJ"
      },
      "source": [
        "### Cuidado!!\n",
        "Cuidado para não criar loops infinitos. Eles ocorrem principalmente nos for loops, quando a condição para a quebra do looping nunca ocorre, fazendo o código rodar infinitamente."
      ]
    },
    {
      "cell_type": "code",
      "metadata": {
        "id": "OvAd0A5hFJzK"
      },
      "source": [
        "#Exemplo de loop infinito\n",
        "i = 0\n",
        "while i < 5:\n",
        "    if i % 2 != 0:\n",
        "        print(\"%d é ímpar\"%(i))"
      ],
      "execution_count": null,
      "outputs": []
    },
    {
      "cell_type": "markdown",
      "metadata": {
        "id": "VPL0WB58FJzK"
      },
      "source": [
        "#### Saindo um pouco dos exemplos numéricos..."
      ]
    },
    {
      "cell_type": "code",
      "metadata": {
        "id": "6Y0znSjpFJzL"
      },
      "source": [
        "consoantes = [\"q\",'w','r','t','y','p','s','d','f','g','h','j','k','l','z','x','c','v','b','n','m']\n",
        "vogais = ['e','i','u','o','a']\n",
        "nome = input(\"Insira seu nome: \")\n",
        "num_vog = 0\n",
        "num_cons = 0\n",
        "letras = []\n",
        "for letra in nome.lower():\n",
        "    if letra in letras:\n",
        "        continue\n",
        "    letras.append(letra)\n",
        "for letra in letras:\n",
        "    if letra in vogais:\n",
        "        num_vog +=1\n",
        "    if letra in consoantes:\n",
        "        num_cons +=1\n",
        "print(\"Consoantes: %d e vogais: %d\"%(num_cons, num_vog))"
      ],
      "execution_count": null,
      "outputs": []
    },
    {
      "cell_type": "markdown",
      "metadata": {
        "id": "QeD0j3qlFJzL"
      },
      "source": [
        "# Funções\n",
        "## O que são Funções?\n",
        "\n",
        "Uma função é um bloco de código que contém uma sequência de comandos que executa alguma tarefa. São utilizadas para executar determinadas tarefas que normalmente precisam ser executadas diversas vezes dentro de uma aplicação. Dessa forma, não é necessário repetir as mesmas linhas de código sempre que se quiser realizar determinada tarefa! "
      ]
    },
    {
      "cell_type": "markdown",
      "metadata": {
        "id": "XH_XbU_qFJzM"
      },
      "source": [
        "## E como é a estrutura de uma função?\n",
        "\n",
        "A função pode apenas manipular os valores...\n",
        "\n",
        "```\n",
        "def NOME (PARAMETROS):\n",
        "  COMANDOS\n",
        "```\n",
        "\n",
        "ou retornar algum valor (usando a palavra reservada return)..\n",
        "\n",
        "```\n",
        "def NOME (PARAMETROS):\n",
        "  COMANDOS\n",
        "  return VALOR_DESEJADO\n",
        "```"
      ]
    },
    {
      "cell_type": "markdown",
      "metadata": {
        "id": "HlUXpKirFJzM"
      },
      "source": [
        "## Alguns exemplos\n",
        "#### Primeiro vamos ver uma função simples e como chama-la no nosso código"
      ]
    },
    {
      "cell_type": "code",
      "metadata": {
        "id": "KyzooCNRFJzM"
      },
      "source": [
        "def apresenta (nome, idade):\n",
        "  print (\"Olá amigos, meu nome é\", nome, \"e eu tenho\", idade, \"anos\")"
      ],
      "execution_count": null,
      "outputs": []
    },
    {
      "cell_type": "code",
      "metadata": {
        "id": "ZFbVnL3dFJzM"
      },
      "source": [
        "nome_usuario=input(\"Qual o seu nome?\")\n",
        "idade_usuario=input(\"E qual a sua idade?\")\n",
        "apresenta(nome_usuario, idade_usuario)"
      ],
      "execution_count": null,
      "outputs": []
    },
    {
      "cell_type": "markdown",
      "metadata": {
        "id": "LJhFJL45FJzN"
      },
      "source": [
        "#### Função com return\n",
        "Como a gente falou anteriormente, apesar de ser interessante manipular nossos dados com funções, muitas vezes precisamos que algum valor seja devolvido por ela. Para isso, usamos a palavra reservada return.\n",
        "Para ficar mais claro, observe o exemplo abaixo."
      ]
    },
    {
      "cell_type": "code",
      "metadata": {
        "id": "3aRlaHJ9FJzN"
      },
      "source": [
        "def maior (a, b):\n",
        "  if(a>b):\n",
        "    return a\n",
        "  else:\n",
        "    return b"
      ],
      "execution_count": null,
      "outputs": []
    },
    {
      "cell_type": "markdown",
      "metadata": {
        "id": "Q_ZwCkaHFJzO"
      },
      "source": [
        "O objetivo dela é retornar o maior valor entre dois números. Veja que o comando return aqui, será o respondável por me devolver o valor da função, quando ela for chamada no meu programa. Vamos ver como fica isso."
      ]
    },
    {
      "cell_type": "code",
      "metadata": {
        "id": "NmrEBd2OFJzO"
      },
      "source": [
        "print(\"digite dois números e eu vou te dizer o maior entre eles \\n\")\n",
        "x= input()\n",
        "y= input()\n",
        "aux = maior(x, y)\n",
        "print(\"O maior número é\", aux)"
      ],
      "execution_count": null,
      "outputs": []
    },
    {
      "cell_type": "code",
      "metadata": {
        "id": "CFOr5GKZFJzO"
      },
      "source": [
        "##Também posso chamar uma função dentro de outra função\n",
        "print(\"digite dois números e eu vou te dizer o maior entre eles \\n\")\n",
        "e= input()\n",
        "f= input()\n",
        "print(\"O maior número é\", maior(e, f))"
      ],
      "execution_count": null,
      "outputs": []
    },
    {
      "cell_type": "markdown",
      "metadata": {
        "id": "vysI7JQqFJzP"
      },
      "source": [
        "## Funções sem parâmetros\n",
        "Funções podem ter infinitos parâmetros ou não ter parâmetro nenhum! Podem ter até parâmetros opcionais(spoiler)."
      ]
    },
    {
      "cell_type": "code",
      "metadata": {
        "id": "do3ejhAgFJzP"
      },
      "source": [
        "def spam():\n",
        "    for i in range(20): \n",
        "        print (\"amendoim é bom\")"
      ],
      "execution_count": null,
      "outputs": []
    },
    {
      "cell_type": "code",
      "metadata": {
        "id": "e-AFjo1GFJzQ"
      },
      "source": [
        "spam()"
      ],
      "execution_count": null,
      "outputs": []
    },
    {
      "cell_type": "markdown",
      "metadata": {
        "id": "4xoxRjeGFJzQ"
      },
      "source": [
        "## Parâmetros opcionais e Parâmetros pré definidos\n",
        "\n",
        "#### Parâmetros opcionais\n",
        "Algumas vezes você quer usar diferentes parâmetros para diferentes propósitos, porém dentro da mesma função. As vezes você não quer usar todos os parâmetros. Existem n motivos pelos quais você pode querer fazer um parâmetro ser opcional.\n",
        "\n",
        "##### Mas como a gente faz isso?\n",
        "\n",
        "Quando estamos escrevendo a função, declaramos o parâmetro como ```**kwargs```. Por convenção, utiliza-se a palavra kwargs, mas pode-se utilizar qualquer uma, desde que coloque-se os ``**`` antes dela!\n",
        "Além disso, é necessário se atribuir o valor dos parâmetros opcionais à variáveis dentro da função. A estrutura fica assim então:\n",
        "\n",
        "```` \n",
        "def nome(parametro_obrigatorio, **kwargs):\n",
        "    opcional1=kwargs.get('opcional1')\n",
        "    opcional2=kwargs.get('opcional2')\n",
        "    ##resto da função... \n",
        "````\n",
        "\n",
        "##### Legal, mas como eu chamo uma função com argumentos opcionais??\n",
        "\n",
        "Posso chamar só com o parâmetro obrigatório, como uma função normal\n",
        "\n",
        "``nome(parametro_obrigatorio)``\n",
        "\n",
        "Posso chamar com um parâmetro opcional. Nesse caso, observe que tive que declarar que o parâmetro a mais que estava colocando na chamada da função, se refere ao parâmetro opcional1.\n",
        "\n",
        "``nome(parametro_obrigatorio, opcional1=\"amendoim\")``\n",
        "\n",
        "E, por fim, posso chamar com todos os parânetros! Sem esquecer é claro, de separa-los e identifica-los.\n",
        "\n",
        "``nome(parametro_obrigatorio, opcional1=\"amendoim\", opcional2=\"chuchu\")``\n",
        "\n",
        "#### Parâmetros pré-definidos\n",
        "Existem casos em que você está lidando com uma situação que acontece com muita frequência, mas não pode assumir que vai acontecer sempre. Uma solução para economizar tempo nessas situações, é pré-definir um valor para um parâmetro da sua função. Dessa forma, o usuário pode preencher o campo desse parâmetro, caso ele não seja seu caso padrão, ou ele pode não preencher nada caso se encaixe.\n",
        "\n",
        "##### Na declaração da função\n",
        "\n",
        "```` \n",
        "def nome(parametro_obrigatorio, parametro_padronizado = 3):\n",
        "    ##resto da função... \n",
        "````\n",
        "##### Na chamada da função\n",
        "Posso chamar a função sem colocar nada no lugar do parametro pré definido, e nesse caso a função irá utilizar o valor pré definido\n",
        "``nome(parametro_obrigatorio)``\n",
        "Mas também posso querer mudar o valor, nesse caso a função é chamada dessa forma:\n",
        "``nome(parametro_obrigatorio, 5)``"
      ]
    },
    {
      "cell_type": "markdown",
      "metadata": {
        "id": "j_6bstsaFJzQ"
      },
      "source": [
        "### Um exemplo"
      ]
    },
    {
      "cell_type": "code",
      "metadata": {
        "id": "xFRqYQnPFJzR"
      },
      "source": [
        "def amizade(nome, mode=\"amigos\", **kwargs):\n",
        "  obs1=kwargs.get('obs1')\n",
        "  obs2=kwargs.get('obs2')\n",
        "  if mode == \"amigos\":\n",
        "    print(\"Oi,\", nome, \"somos bons amigos\")\n",
        "    if obs1 != None:\n",
        "      print(obs1)\n",
        "    if obs2!= None:\n",
        "      print(obs2)\n",
        "  elif mode == \"namorados\":\n",
        "    print (\"oi amor, te amo, quero ter\", nome, \"gravado na minha aliança\")\n",
        "    if obs1 != None:\n",
        "      print(obs1)\n",
        "    if obs2!= None:\n",
        "      print(obs2)\n",
        "  elif mode == \"inimigos\":\n",
        "    print (\"sai daqui,\",nome, \"ninguem gosta de você\")\n",
        "    if obs1 != None:\n",
        "      print(obs1)\n",
        "    if obs2!= None:\n",
        "      print(obs2)"
      ],
      "execution_count": null,
      "outputs": []
    },
    {
      "cell_type": "code",
      "metadata": {
        "id": "rnXVZZCCFJzR"
      },
      "source": [
        "#Caso em que coloco os dois parâmetros opcionais, aqui é utilizado o valor\n",
        "#pré definido para o parâmetro 'mode'\n",
        "\n",
        "amizade(\"vick\", obs1=\"você é cheirosa\", obs2=\"você é muito dedicada\")"
      ],
      "execution_count": null,
      "outputs": []
    },
    {
      "cell_type": "code",
      "metadata": {
        "id": "kMMtF-akFJzR"
      },
      "source": [
        "#Caso sem nenhum parâmetro opcional, aqui o valor\n",
        "#pré definido para o parâmetro 'mode' é alterado\n",
        "amizade(\"chuchu\", \"namorados\")"
      ],
      "execution_count": null,
      "outputs": []
    },
    {
      "cell_type": "code",
      "metadata": {
        "id": "MF9r0ETDFJzR"
      },
      "source": [
        "#Caso em que coloco apenas um parâmetro opcional, aqui o valor\n",
        "#pré definido para o parâmetro 'mode'é alterado\n",
        "amizade(\"menino que não fez nada no meu trabalho de mecânica\", \"inimigos\", obs1=\"VOCÊ NEM RESPONDEU MINHAS MENSAGENS NO WPP\")"
      ],
      "execution_count": null,
      "outputs": []
    }
  ]
}